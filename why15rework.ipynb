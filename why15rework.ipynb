{
 "cells": [
  {
   "cell_type": "markdown",
   "id": "0c511ee5",
   "metadata": {},
   "source": [
    "## Table of Contents\n",
    "\n",
    "1. [Where Are We Now?](#where-are-we-now)\n",
    "2. [How Much Is 1 Degree?](#how-much-is-1-degree)\n",
    "3. [What Does 1 Degree Mean Where I Live?](#what-does-1-degree-mean-where-i-live)\n",
    "4. [What Are the Major Greenhouse Gases?](#what-are-the-major-greenhouse-gases)\n",
    "5. [How Much Does Each Gas Contribute to Global Warming?](#how-much-does-each-gas-contribute-to-global-warming)\n",
    "6. [What Are Our Greenhouse Gas Levels?](#what-are-our-greenhouse-gas-levels)\n",
    "7. [How Much Carbon Is This?](#how-much-carbon-is-this)\n",
    "8. [How Much Carbon Is in the Permafrost?](#how-much-carbon-is-in-the-permafrost)"
   ]
  },
  {
   "cell_type": "markdown",
   "id": "095d732a",
   "metadata": {},
   "source": [
    "## Where Are We Now?\n",
    "\n",
    "In this section, we'll explore the current state of global temperatures. We'll break it into three parts:\n",
    "\n",
    "1. [Downloading the Data](#downloading-the-data)\n",
    "2. [Analyzing the Data](#analyzing-the-data)\n",
    "3. [Showing the Data](#showing-the-data)"
   ]
  },
  {
   "cell_type": "markdown",
   "id": "a92a94d6",
   "metadata": {},
   "source": [
    "### Downloading the Data\n",
    "\n",
    "I've downloaded the climate data for a few cities, but feel free to redownload them yourselves. I didn't find any APIs I liked, so I used data from [WeatherStats](https://www.weatherstats.ca) and global temperature data from the [University of Maine's Climate Reanalyzer](https://climatereanalyzer.org/)."
   ]
  },
  {
   "cell_type": "code",
   "execution_count": null,
   "id": "ca8a6257",
   "metadata": {
    "vscode": {
     "languageId": "yaml"
    }
   },
   "outputs": [],
   "source": [
    "# Deterministic color mapping for each city and global average\n",
    "color_mapping = {\n",
    "    \"Calgary\": \"#8c564b\",          # Brown\n",
    "    \"Edmonton\": \"#e377c2\",         # Pink\n",
    "    \"Global Average\": \"#9467bd\",   # Purple\n",
    "    \"Halifax\": \"#7f7f7f\",          # Gray\n",
    "    \"Montreal\": \"#bcbd22\",         # Yellow-green\n",
    "    \"Ottawa\": \"#17becf\",           # Cyan\n",
    "    \"Thunder Bay\": \"#ff1493\",      # Deep pink\n",
    "    \"Toronto\": \"#ff7f0e\",          # Orange\n",
    "    \"Sault Ste. Marie\": \"#1f77b4\", # Blue\n",
    "    \"Vancouver\": \"#aec7e8\",        # Light blue\n",
    "    \"Whitehorse\": \"#2ca02c\",       # Green\n",
    "    \"Yellowknife\": \"#d62728\"       # Red\n",
    "}\n",
    "\n",
    "# Example usage for cities:\n",
    "city_files = {\n",
    "    'Calgary': '/data/weatherstats_calgary_daily.csv',\n",
    "    'Edmonton': '/data/weatherstats_edmonton_daily.csv',\n",
    "    'Halifax': '/data/weatherstats_halifaxairport_daily.csv',\n",
    "    'Montreal': '/data/weatherstats_montreal_daily.csv',\n",
    "    'Ottawa': '/data/weatherstats_ottawa_daily.csv',\n",
    "    'Sault Ste. Marie': '/data/weatherstats_saultstemarie_daily.csv',\n",
    "    'Thunder Bay': '/data/weatherstats_thunderbay_daily.csv',\n",
    "    'Toronto': '/data/weatherstats_toronto_daily.csv',\n",
    "    'Vancouver': '/data/weatherstats_vancouver_daily.csv',\n",
    "    'Whitehorse': '/data/weatherstats_whitehorse_daily.csv',\n",
    "    'Yellowknife': '/data/weatherstats_yellowknife_daily.csv'\n",
    "}"
   ]
  },
  {
   "cell_type": "code",
   "execution_count": null,
   "id": "3ce1dc3f",
   "metadata": {},
   "outputs": [],
   "source": [
    "import pandas as pd\n",
    "import matplotlib.pyplot as plt\n",
    "import json\n",
    "\n",
    "def process_daily_city_data(daily_city_file):\n",
    "    \"\"\"\n",
    "    Process daily temperature data for a daily city file.\n",
    "\n",
    "    Args:\n",
    "        daily_file (str): filename with daily temperature data in CSV format.\n",
    "\n",
    "    Returns:\n",
    "        DataFrame: Processed daily data with 'date' and 'temperature' columns.\n",
    "    \"\"\"\n",
    "    # Read the daily data\n",
    "    daily_data = pd.read_csv(daily_city_file, low_memory=False)\n",
    "    \n",
    "    # Convert 'date' to datetime and set as index\n",
    "    daily_data['date'] = pd.to_datetime(daily_data['date'])\n",
    "    daily_data.set_index('date', inplace=True)\n",
    "    daily_data['temperature'] = daily_data['avg_temperature']\n",
    "    \n",
    "    return daily_data[['date', 'temperature']]\n",
    "\n",
    "def process_rolling_temperatures(daily_data):\n",
    "    \"\"\"\n",
    "    Calculate the rolling average temperature over a 365-day window.\n",
    "\n",
    "    Args:\n",
    "        daily_data (DataFrame): DataFrame with 'date' and 'temperature' columns.\n",
    "\n",
    "    Returns:\n",
    "        DataFrame: DataFrame with 'date' and 'rolling_average_temp' columns.\n",
    "    \"\"\"\n",
    "    result = daily_data.copy()\n",
    "    result['rolling_average_temp_365'] = daily_data['temperature'].rolling(window=365).mean()\n",
    "    \n",
    "    return result\n",
    "\n",
    "def process_global_temperature_json(json_file_path):\n",
    "    \"\"\"\n",
    "    Process global temperature data from a JSON file to calculate daily averages and rolling averages.\n",
    "\n",
    "    Args:\n",
    "        json_file_path (str): Path to the JSON file containing global temperature data.\n",
    "\n",
    "    Returns:\n",
    "        DataFrame: Processed global temperature data with 'date' and 'rolling_average_temp' columns.\n",
    "    \"\"\"\n",
    "    # Load global temperature data from JSON\n",
    "    with open(json_file_path, 'r') as file:\n",
    "        global_temperature_data = json.load(file)\n",
    "    \n",
    "    # Transform the JSON into a DataFrame\n",
    "    rows = []\n",
    "    for year_data in global_temperature_data:\n",
    "        year = year_data[\"name\"]\n",
    "        daily_temps = year_data[\"data\"]\n",
    "        for day, temp in enumerate(daily_temps, start=1):\n",
    "            rows.append({\"Year\": year, \"Day\": day, \"Temperature\": temp})\n",
    "    \n",
    "    global_temperature_df = pd.DataFrame(rows)\n",
    "    \n",
    "    # Clean the data (filter nulls, handle non-leap years)\n",
    "    global_temperature_df = global_temperature_df[global_temperature_df['Temperature'].notnull()]\n",
    "    global_temperature_df = global_temperature_df[~global_temperature_df['Year'].str.contains('-')]\n",
    "    \n",
    "    # Convert 'Year' and 'Day' to 'date' and calculate rolling average\n",
    "    global_temperature_df['date'] = (pd.to_datetime(global_temperature_df['Year'], format='%Y') + \n",
    "                                      pd.to_timedelta(global_temperature_df['Day'] - 1, unit='D')).dt.date\n",
    "    global_daily = global_temperature_df[['date', 'Temperature']].rename(columns={'Temperature': 'temperature'})\n",
    "    \n",
    "    global_daily['rolling_average_temp_365'] = global_daily['temperature'].rolling(window=365, min_periods=365).mean()\n",
    "    global_daily = global_daily[['date', 'temperature', 'rolling_average_temp_365']]\n",
    "    \n",
    "    return global_daily\n",
    "\n",
    "def plot_rolling_averages(dataframe_dict):\n",
    "    \"\"\"\n",
    "    Plots the 365-day rolling average temperatures for multiple cities and global average.\n",
    "    \n",
    "    Args:\n",
    "        dataframe_dict (dict): A dictionary where the keys are city names (strings) \n",
    "                               and the values are DataFrames containing 'date' and 'rolling_average_temp'.\n",
    "    \"\"\"\n",
    "    plt.figure(figsize=(12, 6))\n",
    "    plt.title(\"365-Day Rolling Average Temperatures\", fontsize=16)\n",
    "    \n",
    "    # Loop through each city and plot the data\n",
    "    for city, data in dataframe_dict.items():\n",
    "        trimmed_data = data.dropna(subset=['rolling_average_temp_365'])\n",
    "        color = color_mapping.get(city, \"#000000\")  # Default to black if city not in color_mapping\n",
    "        plt.plot(trimmed_data['date'], trimmed_data['rolling_average_temp_365'], label=city, color=color, alpha=0.7)\n",
    "    \n",
    "    # Add labels and grid\n",
    "    plt.xlabel(\"Date\", fontsize=14)\n",
    "    plt.ylabel(\"365-Day Rolling Average Temperature (°C)\", fontsize=14)\n",
    "    plt.xticks(rotation=45)  # Rotate date labels for better readability\n",
    "    plt.legend()\n",
    "    plt.grid(True)\n",
    "    plt.tight_layout()  # Ensures everything fits without overlapping\n",
    "    plt.show()\n",
    "\n",
    "def plot_temperatures(dataframe_dict):\n",
    "    \"\"\"\n",
    "    Plots the 365-day rolling average temperatures for multiple cities and global average.\n",
    "    \n",
    "    Args:\n",
    "        dataframe_dict (dict): A dictionary where the keys are city names (strings) \n",
    "                               and the values are DataFrames containing 'date' and 'rolling_average_temp'.\n",
    "    \"\"\"\n",
    "    plt.figure(figsize=(12, 6))\n",
    "    plt.title(\"Daily Temperatures\", fontsize=16)\n",
    "    \n",
    "    # Loop through each city and plot the data\n",
    "    for city, data in dataframe_dict.items():\n",
    "        color = color_mapping.get(city, \"#000000\")  # Default to black if city not in color_mapping\n",
    "        plt.plot(data['date'], data['temperature'], label=city, color=color, alpha=0.7)\n",
    "    \n",
    "    # Add labels and grid\n",
    "    plt.xlabel(\"Date\", fontsize=14)\n",
    "    plt.ylabel(\"365-Day Rolling Average Temperature (°C)\", fontsize=14)\n",
    "    plt.xticks(rotation=45)  # Rotate date labels for better readability\n",
    "    plt.legend()\n",
    "    plt.grid(True)\n",
    "    plt.tight_layout()  # Ensures everything fits without overlapping\n",
    "    plt.show()\n",
    "\n",
    "def plot_temperatures_and_rolling_averages(dataframe_dict):\n",
    "    \"\"\"\n",
    "    Plots the 365-day rolling average temperatures for multiple cities and global average.\n",
    "    \n",
    "    Args:\n",
    "        dataframe_dict (dict): A dictionary where the keys are city names (strings) \n",
    "                               and the values are DataFrames containing 'date' and 'rolling_average_temp'.\n",
    "    \"\"\"\n",
    "    plt.figure(figsize=(12, 6))\n",
    "    plt.title(\"365-Day Rolling Average and Daily Temperatures\", fontsize=16)\n",
    "    \n",
    "    # Loop through each city and plot the data\n",
    "    for city, data in dataframe_dict.items():\n",
    "        trimmed_data = data.dropna(subset=['rolling_average_temp_365'])\n",
    "        color = color_mapping.get(city, \"#000000\")  # Default to black if city not in color_mapping\n",
    "        plt.plot(data['date'], data['temperature'], label=city, color=color, linestyles=\"dashed\", alpha=0.7)\n",
    "        plt.plot(trimmed_data['date'], trimmed_data['rolling_average_temp_365'], label=city, color=color, linestyles=\"dotted\", alpha=0.7)\n",
    "    \n",
    "    # Add labels and grid\n",
    "    plt.xlabel(\"Date\", fontsize=14)\n",
    "    plt.ylabel(\"365-Day Rolling Average Temperature (°C)\", fontsize=14)\n",
    "    plt.xticks(rotation=45)  # Rotate date labels for better readability\n",
    "    plt.legend()\n",
    "    plt.grid(True)\n",
    "    plt.tight_layout()  # Ensures everything fits without overlapping\n",
    "    plt.show()\n",
    "\n",
    "city_data = {}\n",
    "city_hourly_data = {}\n",
    "for city, file in city_files.items():\n",
    "    hourly_data, daily_data = process_hourly_data(file)\n",
    "    city_hourly_data[city] = hourly_data\n",
    "    city_data[city] = process_rolling_daily(daily_data)\n",
    "\n",
    "# Example usage for global temperature data:\n",
    "city_data['Global Average'] = process_global_temperature_json('/kaggle/input/global-average-air-temperature/era5_world_t2_day.json')\n",
    "\n",
    "# Call the plotting function\n",
    "plot_rolling_averages(city_data)"
   ]
  },
  {
   "cell_type": "markdown",
   "id": "99cebe8c",
   "metadata": {},
   "source": [
    "### Analyzing the Data\n",
    "\n",
    "Once we have the data, we'll process it to calculate rolling averages and other meaningful metrics."
   ]
  },
  {
   "cell_type": "markdown",
   "id": "fa21a8ea",
   "metadata": {},
   "source": [
    "### Showing the Data\n",
    "\n",
    "Finally, we'll visualize the data to understand the trends and patterns in global temperatures."
   ]
  },
  {
   "cell_type": "markdown",
   "id": "122d5d57",
   "metadata": {},
   "source": [
    "## How Much Is 1 Degree?"
   ]
  },
  {
   "cell_type": "markdown",
   "id": "1f5d0272",
   "metadata": {},
   "source": [
    "## What Does 1 Degree Mean Where I Live?"
   ]
  },
  {
   "cell_type": "markdown",
   "id": "9be1bcfd",
   "metadata": {},
   "source": [
    "## What Are the Major Greenhouse Gases?"
   ]
  },
  {
   "cell_type": "markdown",
   "id": "6ea87eef",
   "metadata": {},
   "source": [
    "## How Much Does Each Gas Contribute to Global Warming?"
   ]
  },
  {
   "cell_type": "markdown",
   "id": "edc3b0b3",
   "metadata": {},
   "source": [
    "## What Are Our Greenhouse Gas Levels?"
   ]
  },
  {
   "cell_type": "markdown",
   "id": "6169d381",
   "metadata": {},
   "source": [
    "## How Much Carbon Is This?"
   ]
  },
  {
   "cell_type": "markdown",
   "id": "83435476",
   "metadata": {},
   "source": [
    "## How Much Carbon Is in the Permafrost?"
   ]
  },
  {
   "cell_type": "code",
   "execution_count": null,
   "id": "c1891298",
   "metadata": {},
   "outputs": [],
   "source": []
  }
 ],
 "metadata": {
  "kernelspec": {
   "display_name": ".venv",
   "language": "python",
   "name": "python3"
  },
  "language_info": {
   "codemirror_mode": {
    "name": "ipython",
    "version": 3
   },
   "file_extension": ".py",
   "mimetype": "text/x-python",
   "name": "python",
   "nbconvert_exporter": "python",
   "pygments_lexer": "ipython3",
   "version": "3.11.8"
  }
 },
 "nbformat": 4,
 "nbformat_minor": 5
}
